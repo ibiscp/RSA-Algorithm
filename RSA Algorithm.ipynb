{
 "cells": [
  {
   "cell_type": "markdown",
   "metadata": {},
   "source": [
    "# Asymmetric Cryptography\n",
    "Public-key cryptography, or asymmetric cryptography, is a cryptographic system that uses pairs of keys: public keys, which may be disseminated widely, and private keys,which are known only to the owner. The generation of such keys depends on cryptographic algorithms based on mathematical problems to produce one-way functions. Effective security only requires keeping the private key private; the public key can be openly distributed without compromising security.\n",
    "\n",
    "In such a system, any person can encrypt a message using the receiver's public key, but that encrypted message can only be decrypted with the receiver's private key.\n",
    "\n",
    "Robust authentication is also possible. A sender can combine a message with a private key to create a short digital signature on the message. Anyone with the sender's corresponding public key can combine the same message and the supposed digital signature associated with it to verify whether the signature was valid, i.e. made by the owner of the corresponding private key.\n",
    "\n",
    "Public key algorithms are fundamental security ingredients in modern cryptosystems, applications and protocols assuring the confidentiality, authenticity and non-repudiability of electronic communications and data storage. They underpin various Internet standards, such as Transport Layer Security (TLS), S/MIME, PGP, and GPG. Some public key algorithms provide key distribution and secrecy (e.g., Diffie–Hellman key exchange), some provide digital signatures (e.g., Digital Signature Algorithm), and some provide both (e.g., RSA).\n",
    "\n",
    "# RSA Algorithm\n",
    "RSA (Rivest–Shamir–Adleman) is one of the first public-key cryptosystems and is widely used for secure data transmission. In such a cryptosystem, the encryption key is public and distinct from the decryption key which is kept secret (private). In RSA, this asymmetry is based on the practical difficulty of factoring the product of two large prime numbers, the \"factoring problem\". The acronym RSA is the initial letters of the surnames of Ron Rivest, Adi Shamir, and Leonard Adleman, who publicly described the algorithm in 1977. Clifford Cocks, an English mathematician working for the British intelligence agency Government Communications Headquarters (GCHQ), had developed an equivalent system in 1973, which was not declassified until 1997.\n",
    "\n",
    "A user of RSA creates and then publishes a public key based on two large prime numbers, along with an auxiliary value. The prime numbers must be kept secret. Anyone can use the public key to encrypt a message, but only someone with knowledge of the prime numbers can decode the message. Breaking RSA encryption is known as the RSA problem. Whether it is as difficult as the factoring problem is an open question. There are no published methods to defeat the system if a large enough key is used.\n",
    "\n",
    "RSA is a relatively slow algorithm, and because of this, it is less commonly used to directly encrypt user data. More often, RSA passes encrypted shared keys for symmetric key cryptography which in turn can perform bulk encryption-decryption operations at much higher speed.\n",
    "\n",
    "## Helper functions to convert from string to decimal values and from decimal values to string"
   ]
  },
  {
   "cell_type": "code",
   "execution_count": 1,
   "metadata": {},
   "outputs": [
    {
     "name": "stdout",
     "output_type": "stream",
     "text": [
      "Original String: \t Test\n",
      "String into Decimal: \t [84, 101, 115, 116]\n",
      "Decimal into String: \t Test\n"
     ]
    }
   ],
   "source": [
    "# Converts a string to a list of decimal numbers\n",
    "def str2dec(st):\n",
    "    dec_list = []\n",
    "    for i in st:\n",
    "        dec_list.append(ord(i))\n",
    "    return dec_list\n",
    "\n",
    "# Converts a list of decimal numbers to string\n",
    "def dec2str(dec):\n",
    "    str_list = []\n",
    "    for i in dec:\n",
    "        str_list.append(chr(i))\n",
    "    return ''.join(str_list)\n",
    "\n",
    "message = 'Test'\n",
    "print('Original String: \\t', message)\n",
    "\n",
    "dec = str2dec(message)\n",
    "print('String into Decimal: \\t', dec)\n",
    "\n",
    "txt = dec2str(dec)\n",
    "print('Decimal into String: \\t', txt)"
   ]
  },
  {
   "cell_type": "markdown",
   "metadata": {},
   "source": [
    "## Prime number generator\n",
    "Generates random prime number given a value range."
   ]
  },
  {
   "cell_type": "code",
   "execution_count": 2,
   "metadata": {},
   "outputs": [],
   "source": [
    "import random\n",
    "import math\n",
    "\n",
    "def generate_prime(beg=1000, end=10000):\n",
    "    beg_rand = random.randint(beg, end);\n",
    "    if beg_rand % 2 == 0:\n",
    "        beg_rand += 1\n",
    "        \n",
    "    for possiblePrime in range(beg_rand, end, 2):\n",
    "\n",
    "        # Assume number is prime until shown it is not. \n",
    "        isPrime = True\n",
    "        for num in range(3, math.floor(possiblePrime/2), 2):\n",
    "            if possiblePrime % num == 0:\n",
    "                isPrime = False\n",
    "\n",
    "        if isPrime:\n",
    "            return possiblePrime"
   ]
  },
  {
   "cell_type": "markdown",
   "metadata": {},
   "source": [
    "The idea of RSA is based on the fact that it is difficult to factorize a large integer. The public key consists of two numbers where one number is multiplication of two large prime numbers. And private key is also derived from the same two prime numbers. So if somebody can factorize the large number, the private key is compromised. Therefore encryption strength totally lies on the key size and if we double or triple the key size, the strength of encryption increases exponentially. RSA keys can be typically 1024 or 2048 bits long, but experts believe that 1024 bit keys could be broken in the near future. But till now it seems to be an infeasible task.\n",
    "\n",
    "## Public and Private key generation\n",
    "\n",
    "#### The public key corresponds to the pair {e, n}\n",
    "\n",
    "$e$ needs to be: \n",
    "* $1 < e < \\phi(n)$\n",
    "* coprime with $n$ and $\\phi(n)$\n",
    "\n",
    "$\\phi(n) = (p - 1) * (q - 1)$ = the total number of coprimes with n"
   ]
  },
  {
   "cell_type": "code",
   "execution_count": 3,
   "metadata": {},
   "outputs": [],
   "source": [
    "# This value is the multiplication of the two prime numbers,\n",
    "# because the prime numbers are large this value is difficult to factorize\n",
    "def generate_nkey(p, q):\n",
    "    return p * q\n",
    "\n",
    "# This 'e' key with 'n' is considered the public key\n",
    "def generate_ekey(p, q):\n",
    "    phi = (p-1) * (q-1)\n",
    "\n",
    "    for e in range(random.randrange(3, phi-1, 2), phi-1):\n",
    "        if math.gcd(e, phi) == 1:\n",
    "            return e"
   ]
  },
  {
   "cell_type": "markdown",
   "metadata": {},
   "source": [
    "#### The private key corresponds to the pair {d, n}\n",
    "\n",
    "$d$ needs to be: \n",
    "* $d e (mod \\phi(n)) = 1$"
   ]
  },
  {
   "cell_type": "code",
   "execution_count": 4,
   "metadata": {},
   "outputs": [],
   "source": [
    "# This 'd' key with 'n' is considered the private key\n",
    "def generate_dkey(e):\n",
    "    phi = (p-1) * (q-1)\n",
    "\n",
    "    d = int(phi / e)\n",
    "    while (True):\n",
    "        if (d * e) % phi == 1:\n",
    "            return d\n",
    "        d += 1"
   ]
  },
  {
   "cell_type": "markdown",
   "metadata": {},
   "source": [
    "## Encryption and Decryption algorithm\n",
    "The formula used to both encrypt and decrypt the messages is the same. All messages that are encrypted with the public key can only be decrypted with the private key, and messages encrypted with the private key can only be decrypted with the public key."
   ]
  },
  {
   "cell_type": "code",
   "execution_count": 5,
   "metadata": {},
   "outputs": [],
   "source": [
    "def endecrypt_message(m, key, n):\n",
    "    \n",
    "    res = 1     # Initialize result \n",
    "  \n",
    "    # Update message if it is more than or equal to p \n",
    "    m = m % n  \n",
    "      \n",
    "    if (m == 0) : \n",
    "        return 0\n",
    "  \n",
    "    while (key > 0) : \n",
    "          \n",
    "        # If key is odd, multiply key with result \n",
    "        if ((key & 1) == 1) : \n",
    "            res = (res * m) % n \n",
    "  \n",
    "        # key must be even now \n",
    "        key = key >> 1      # key = key/2 \n",
    "        m = (m * m) % n \n",
    "          \n",
    "    return res"
   ]
  },
  {
   "cell_type": "markdown",
   "metadata": {},
   "source": [
    "# Example"
   ]
  },
  {
   "cell_type": "code",
   "execution_count": 6,
   "metadata": {},
   "outputs": [
    {
     "name": "stdout",
     "output_type": "stream",
     "text": [
      "Two random prime numbers\n",
      "\tPrime 1:  7393\n",
      "\tPrime 2:  8069\n",
      "\n",
      "n key:  59654117\n",
      "e key:  23376623\n",
      "d key:  41952143\n",
      "\n",
      "Public key {e, n}: {23376623, 59654117}\n",
      "Private key {d, n}: {41952143, 59654117}\n"
     ]
    }
   ],
   "source": [
    "p = generate_prime()\n",
    "q = generate_prime()\n",
    "\n",
    "while (p == q):\n",
    "    q = generate_prime()\n",
    "\n",
    "print('Two random prime numbers')\n",
    "print('\\tPrime 1: ', p)\n",
    "print('\\tPrime 2: ', q)\n",
    "\n",
    "n = generate_nkey(p, q)\n",
    "e = generate_ekey(p, q)\n",
    "d = generate_dkey(e)\n",
    "\n",
    "print('\\nn key: ', n)\n",
    "print('e key: ', e)\n",
    "print('d key: ', d)\n",
    "\n",
    "print('\\nPublic key {e, n}: {%d, %d}' %(e, n))\n",
    "print('Private key {d, n}: {%d, %d}' %(d, n))"
   ]
  },
  {
   "cell_type": "markdown",
   "metadata": {},
   "source": [
    "## Encrypting with the public key and decrypting with the private key\n",
    "Once the massage in encrypted using the public key, it can only be decrypted by owner of the private key, this way, the message cannot be modified during the transmition."
   ]
  },
  {
   "cell_type": "code",
   "execution_count": 7,
   "metadata": {},
   "outputs": [
    {
     "name": "stdout",
     "output_type": "stream",
     "text": [
      "\n",
      "MESSAGE\n",
      "\t Ibis Prevedello \n",
      "\t [73, 98, 105, 115, 32, 80, 114, 101, 118, 101, 100, 101, 108, 108, 111]\n",
      "\n",
      "\n",
      "ENCRYPTED\n",
      "\t [2299003, 19829760, 30340827, 16915268, 22806790, 31328377, 52034573, 15679620, 55233940, 15679620, 46972104, 15679620, 40264816, 40264816, 10178222]\n",
      "\n",
      "\n",
      "DECRYPTED\n",
      "\t Ibis Prevedello \n",
      "\t [73, 98, 105, 115, 32, 80, 114, 101, 118, 101, 100, 101, 108, 108, 111]\n"
     ]
    }
   ],
   "source": [
    "message = 'Ibis Prevedello'\n",
    "message_dec = str2dec(message)\n",
    "\n",
    "# Encrypt message using the public key\n",
    "encrypted = [endecrypt_message(i, e, n) for i in message_dec]\n",
    "\n",
    "# Decrypt message using the private key\n",
    "decrypted = [endecrypt_message(i, d, n) for i in encrypted]\n",
    "\n",
    "print('\\nMESSAGE\\n\\t', message, '\\n\\t', message_dec)\n",
    "print('\\n\\nENCRYPTED\\n\\t', encrypted)\n",
    "print('\\n\\nDECRYPTED\\n\\t', dec2str(decrypted), '\\n\\t', decrypted)"
   ]
  },
  {
   "cell_type": "markdown",
   "metadata": {},
   "source": [
    "## Encrypting with the private key and decrypting with the public key\n",
    "The idea here is to show that the opposit is also valid, it does not really make sense to encrypt messages using the private key, because the public key is known to everyone, this way anyone could decrypt it.\n",
    "But the encryption with the public key is used to prove that the message really came from the owner of the private key."
   ]
  },
  {
   "cell_type": "code",
   "execution_count": 8,
   "metadata": {},
   "outputs": [
    {
     "name": "stdout",
     "output_type": "stream",
     "text": [
      "\n",
      "MESSAGE\n",
      "\t Ibis Prevedello \n",
      "\t [73, 98, 105, 115, 32, 80, 114, 101, 118, 101, 100, 101, 108, 108, 111]\n",
      "\n",
      "\n",
      "ENCRYPTED\n",
      "\t [2573418, 41200476, 26690502, 49479559, 56054585, 46859964, 50266683, 29662549, 49748881, 29662549, 18778234, 29662549, 29596224, 29596224, 47908214]\n",
      "\n",
      "\n",
      "DECRYPTED\n",
      "\t Ibis Prevedello \n",
      "\t [73, 98, 105, 115, 32, 80, 114, 101, 118, 101, 100, 101, 108, 108, 111]\n"
     ]
    }
   ],
   "source": [
    "message = 'Ibis Prevedello'\n",
    "message_dec = str2dec(message)\n",
    "\n",
    "# Encrypt message using the private key\n",
    "encrypted = [endecrypt_message(i, d, n) for i in message_dec]\n",
    "\n",
    "# Decrypt message using the public key\n",
    "decrypted = [endecrypt_message(i, e, n) for i in encrypted]\n",
    "\n",
    "print('\\nMESSAGE\\n\\t', message, '\\n\\t', message_dec)\n",
    "print('\\n\\nENCRYPTED\\n\\t', encrypted)\n",
    "print('\\n\\nDECRYPTED\\n\\t', dec2str(decrypted), '\\n\\t', decrypted)"
   ]
  }
 ],
 "metadata": {
  "kernelspec": {
   "display_name": "Python 3",
   "language": "python",
   "name": "python3"
  },
  "language_info": {
   "codemirror_mode": {
    "name": "ipython",
    "version": 3
   },
   "file_extension": ".py",
   "mimetype": "text/x-python",
   "name": "python",
   "nbconvert_exporter": "python",
   "pygments_lexer": "ipython3",
   "version": "3.7.7"
  }
 },
 "nbformat": 4,
 "nbformat_minor": 4
}
